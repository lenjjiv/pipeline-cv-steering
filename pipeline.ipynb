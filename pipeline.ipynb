{
 "cells": [
  {
   "cell_type": "code",
   "execution_count": 1,
   "id": "2b1b6745-2470-43b8-a52e-76f8258a3f35",
   "metadata": {},
   "outputs": [
    {
     "name": "stdout",
     "output_type": "stream",
     "text": [
      "\n",
      "\u001b[1m[\u001b[0m\u001b[34;49mnotice\u001b[0m\u001b[1;39;49m]\u001b[0m\u001b[39;49m A new release of pip is available: \u001b[0m\u001b[31;49m24.0\u001b[0m\u001b[39;49m -> \u001b[0m\u001b[32;49m25.0.1\u001b[0m\n",
      "\u001b[1m[\u001b[0m\u001b[34;49mnotice\u001b[0m\u001b[1;39;49m]\u001b[0m\u001b[39;49m To update, run: \u001b[0m\u001b[32;49mpython3.9 -m pip install --upgrade pip\u001b[0m\n",
      "Note: you may need to restart the kernel to use updated packages.\n"
     ]
    }
   ],
   "source": [
    "%pip install -q torch diffusers transformers pillow matplotlib ipywidgets accelerate hf_xet"
   ]
  },
  {
   "cell_type": "code",
   "execution_count": null,
   "id": "cd1b8705-44bf-44d1-bd1b-9dfe38e904d1",
   "metadata": {
    "scrolled": true
   },
   "outputs": [
    {
     "name": "stdout",
     "output_type": "stream",
     "text": [
      "Вычисляем управляющие векторы: модель=sd21, режим=concrete, концепция=a cow\n"
     ]
    },
    {
     "data": {
      "application/vnd.jupyter.widget-view+json": {
       "model_id": "a547a6aab4404bf98205c3250423c794",
       "version_major": 2,
       "version_minor": 0
      },
      "text/plain": [
       "Loading pipeline components...:   0%|          | 0/6 [00:00<?, ?it/s]"
      ]
     },
     "metadata": {},
     "output_type": "display_data"
    },
    {
     "name": "stdout",
     "output_type": "stream",
     "text": [
      "Обрабатываем 8 пар промптов...\n"
     ]
    },
    {
     "data": {
      "application/vnd.jupyter.widget-view+json": {
       "model_id": "519b3d3aec184702ac77e9e39497ef8d",
       "version_major": 2,
       "version_minor": 0
      },
      "text/plain": [
       "  0%|          | 0/8 [00:00<?, ?it/s]"
      ]
     },
     "metadata": {},
     "output_type": "display_data"
    },
    {
     "name": "stdout",
     "output_type": "stream",
     "text": [
      "Промпт 1/8: 'cyberpunk with a cow' и 'cyberpunk'\n",
      "down 6\n",
      "up 15\n",
      "mid 16\n"
     ]
    },
    {
     "data": {
      "application/vnd.jupyter.widget-view+json": {
       "model_id": "a281ff87f88f467bb57bd5f7374d95f0",
       "version_major": 2,
       "version_minor": 0
      },
      "text/plain": [
       "  0%|          | 0/50 [00:00<?, ?it/s]"
      ]
     },
     "metadata": {},
     "output_type": "display_data"
    },
    {
     "name": "stdout",
     "output_type": "stream",
     "text": [
      "down 6\n",
      "up 15\n",
      "mid 16\n"
     ]
    },
    {
     "data": {
      "application/vnd.jupyter.widget-view+json": {
       "model_id": "41c5e65b0a0c4582aafcdd3510b8d786",
       "version_major": 2,
       "version_minor": 0
      },
      "text/plain": [
       "  0%|          | 0/50 [00:00<?, ?it/s]"
      ]
     },
     "metadata": {},
     "output_type": "display_data"
    },
    {
     "name": "stdout",
     "output_type": "stream",
     "text": [
      "Промпт 2/8: 'watercolor painting with a cow' и 'watercolor painting'\n",
      "down 6\n",
      "up 15\n",
      "mid 16\n"
     ]
    },
    {
     "data": {
      "application/vnd.jupyter.widget-view+json": {
       "model_id": "f78c56ee61454054ad8899e180fc870a",
       "version_major": 2,
       "version_minor": 0
      },
      "text/plain": [
       "  0%|          | 0/50 [00:00<?, ?it/s]"
      ]
     },
     "metadata": {},
     "output_type": "display_data"
    },
    {
     "name": "stdout",
     "output_type": "stream",
     "text": [
      "down 6\n",
      "up 15\n",
      "mid 16\n"
     ]
    },
    {
     "data": {
      "application/vnd.jupyter.widget-view+json": {
       "model_id": "18ad58dbb9a94af7a1812f2acebf57b6",
       "version_major": 2,
       "version_minor": 0
      },
      "text/plain": [
       "  0%|          | 0/50 [00:00<?, ?it/s]"
      ]
     },
     "metadata": {},
     "output_type": "display_data"
    },
    {
     "name": "stdout",
     "output_type": "stream",
     "text": [
      "Промпт 3/8: 'steampunk with a cow' и 'steampunk'\n",
      "down 6\n",
      "up 15\n",
      "mid 16\n"
     ]
    },
    {
     "data": {
      "application/vnd.jupyter.widget-view+json": {
       "model_id": "467a6b3254a04e4ca3cf8f1f87eca6e6",
       "version_major": 2,
       "version_minor": 0
      },
      "text/plain": [
       "  0%|          | 0/50 [00:00<?, ?it/s]"
      ]
     },
     "metadata": {},
     "output_type": "display_data"
    },
    {
     "name": "stdout",
     "output_type": "stream",
     "text": [
      "down 6\n",
      "up 15\n",
      "mid 16\n"
     ]
    },
    {
     "data": {
      "application/vnd.jupyter.widget-view+json": {
       "model_id": "8212dfe8217147ad9108df54d82a9be3",
       "version_major": 2,
       "version_minor": 0
      },
      "text/plain": [
       "  0%|          | 0/50 [00:00<?, ?it/s]"
      ]
     },
     "metadata": {},
     "output_type": "display_data"
    },
    {
     "name": "stdout",
     "output_type": "stream",
     "text": [
      "Промпт 4/8: 'vaporwave with a cow' и 'vaporwave'\n",
      "down 6\n",
      "up 15\n",
      "mid 16\n"
     ]
    },
    {
     "data": {
      "application/vnd.jupyter.widget-view+json": {
       "model_id": "0cb693985e8d4588a207e6e21222830a",
       "version_major": 2,
       "version_minor": 0
      },
      "text/plain": [
       "  0%|          | 0/50 [00:00<?, ?it/s]"
      ]
     },
     "metadata": {},
     "output_type": "display_data"
    },
    {
     "name": "stdout",
     "output_type": "stream",
     "text": [
      "down 6\n",
      "up 15\n",
      "mid 16\n"
     ]
    },
    {
     "data": {
      "application/vnd.jupyter.widget-view+json": {
       "model_id": "fcc1c6ac02ed41989301dfc7c64f231a",
       "version_major": 2,
       "version_minor": 0
      },
      "text/plain": [
       "  0%|          | 0/50 [00:00<?, ?it/s]"
      ]
     },
     "metadata": {},
     "output_type": "display_data"
    },
    {
     "name": "stdout",
     "output_type": "stream",
     "text": [
      "Промпт 5/8: 'minimalist with a cow' и 'minimalist'\n",
      "down 6\n",
      "up 15\n",
      "mid 16\n"
     ]
    },
    {
     "data": {
      "application/vnd.jupyter.widget-view+json": {
       "model_id": "581b26fa36e74402a87ef36924b137c8",
       "version_major": 2,
       "version_minor": 0
      },
      "text/plain": [
       "  0%|          | 0/50 [00:00<?, ?it/s]"
      ]
     },
     "metadata": {},
     "output_type": "display_data"
    },
    {
     "name": "stdout",
     "output_type": "stream",
     "text": [
      "down 6\n",
      "up 15\n",
      "mid 16\n"
     ]
    },
    {
     "data": {
      "application/vnd.jupyter.widget-view+json": {
       "model_id": "ed071e166f564a1dbe560242a7ca2960",
       "version_major": 2,
       "version_minor": 0
      },
      "text/plain": [
       "  0%|          | 0/50 [00:00<?, ?it/s]"
      ]
     },
     "metadata": {},
     "output_type": "display_data"
    },
    {
     "name": "stdout",
     "output_type": "stream",
     "text": [
      "Промпт 6/8: 'hyperrealistic with a cow' и 'hyperrealistic'\n",
      "down 6\n",
      "up 15\n",
      "mid 16\n"
     ]
    },
    {
     "data": {
      "application/vnd.jupyter.widget-view+json": {
       "model_id": "3e7bf5fb3dd04e9da43a65c0e89ac1b6",
       "version_major": 2,
       "version_minor": 0
      },
      "text/plain": [
       "  0%|          | 0/50 [00:00<?, ?it/s]"
      ]
     },
     "metadata": {},
     "output_type": "display_data"
    },
    {
     "name": "stdout",
     "output_type": "stream",
     "text": [
      "down 6\n",
      "up 15\n",
      "mid 16\n"
     ]
    },
    {
     "data": {
      "application/vnd.jupyter.widget-view+json": {
       "model_id": "1f0e73b470354778b4b47e4f4237ad34",
       "version_major": 2,
       "version_minor": 0
      },
      "text/plain": [
       "  0%|          | 0/50 [00:00<?, ?it/s]"
      ]
     },
     "metadata": {},
     "output_type": "display_data"
    }
   ],
   "source": [
    "from compute_steering_vectors import compute_steering_vectors\n",
    "\n",
    "model_name = 'sd21'\n",
    "\n",
    "steering_vectors_cow = compute_steering_vectors(\n",
    "    model_name=model_name,\n",
    "    mode='concrete',\n",
    "    concept_pos='a cow',\n",
    "    num_denoising_steps=50,\n",
    "    max_prompts=8,\n",
    ")\n",
    "\n",
    "steering_vectors_pig = compute_steering_vectors(\n",
    "    model_name=model_name,\n",
    "    mode='concrete',\n",
    "    concept_pos='a pig',\n",
    "    num_denoising_steps=50,\n",
    "    max_prompts=8,\n",
    ")"
   ]
  },
  {
   "cell_type": "code",
   "execution_count": null,
   "id": "e8533f4a-a8b2-4e4a-8902-6e3ac027fe4f",
   "metadata": {},
   "outputs": [],
   "source": [
    "from collections import defaultdict\n",
    "import numpy as np\n",
    "\n",
    "def subtract_nested_defaultdicts(dict1, dict2):\n",
    "    \"\"\"\n",
    "    Рекурсивно вычитает значения из dict2 из dict1 для всех соответствующих ключей,\n",
    "    включая вложенные структуры и массивы numpy.\n",
    "    \n",
    "    Args:\n",
    "        dict1: Первый defaultdict\n",
    "        dict2: Второй defaultdict, значения которого будут вычтены\n",
    "    \n",
    "    Returns:\n",
    "        Новый defaultdict с результатом вычитания\n",
    "    \"\"\"\n",
    "    # Создаем новый defaultdict для результата\n",
    "    result = defaultdict(list)\n",
    "    \n",
    "    # Проходим по всем ключам в первом словаре\n",
    "    for key in dict1:\n",
    "        if key in dict2:\n",
    "            # Если значение - список\n",
    "            if isinstance(dict1[key], list) and isinstance(dict2[key], list):\n",
    "                result[key] = []\n",
    "                # Обрабатываем каждый элемент списка\n",
    "                for i in range(min(len(dict1[key]), len(dict2[key]))):\n",
    "                    # Если элемент - массив numpy\n",
    "                    if isinstance(dict1[key][i], np.ndarray) and isinstance(dict2[key][i], np.ndarray):\n",
    "                        # Вычитаем массивы\n",
    "                        result[key].append(dict1[key][i] - dict2[key][i])\n",
    "                    # Если элемент - вложенный defaultdict\n",
    "                    elif isinstance(dict1[key][i], defaultdict) and isinstance(dict2[key][i], defaultdict):\n",
    "                        result[key].append(subtract_nested_defaultdicts(dict1[key][i], dict2[key][i]))\n",
    "                    # Если элемент - скаляр\n",
    "                    else:\n",
    "                        try:\n",
    "                            result[key].append(dict1[key][i] - dict2[key][i])\n",
    "                        except (TypeError, ValueError):\n",
    "                            # Если вычитание невозможно, сохраняем оригинальное значение\n",
    "                            result[key].append(dict1[key][i])\n",
    "                \n",
    "                # Добавляем оставшиеся элементы из первого списка\n",
    "                if len(dict1[key]) > len(dict2[key]):\n",
    "                    result[key].extend(dict1[key][len(dict2[key]):])\n",
    "            \n",
    "            # Если значение - вложенный defaultdict\n",
    "            elif isinstance(dict1[key], defaultdict) and isinstance(dict2[key], defaultdict):\n",
    "                result[key] = subtract_nested_defaultdicts(dict1[key], dict2[key])\n",
    "            \n",
    "            # Если значение - массив numpy\n",
    "            elif isinstance(dict1[key], np.ndarray) and isinstance(dict2[key], np.ndarray):\n",
    "                result[key] = dict1[key] - dict2[key]\n",
    "            \n",
    "            # Если значение - скаляр\n",
    "            else:\n",
    "                try:\n",
    "                    result[key] = dict1[key] - dict2[key]\n",
    "                except (TypeError, ValueError):\n",
    "                    # Если вычитание невозможно, сохраняем оригинальное значение\n",
    "                    result[key] = dict1[key]\n",
    "        else:\n",
    "            # Если ключ отсутствует во втором словаре, сохраняем значение из первого\n",
    "            result[key] = dict1[key]\n",
    "    \n",
    "    return result\n",
    "\n",
    "\n",
    "cow_minus_pig = subtract_nested_defaultdicts(steering_vectors_cow, steering_vectors_pig)"
   ]
  },
  {
   "cell_type": "code",
   "execution_count": null,
   "id": "ccdc6c36-74a5-4c50-99b9-a848bba7d674",
   "metadata": {},
   "outputs": [],
   "source": [
    "from generate_image import generate_image\n",
    "from utilities import compare_images\n",
    "\n",
    "# Генерируем изображения с разными промптами\n",
    "prompts = [\n",
    "    \"a pig\",\n",
    "    \"a cow\",\n",
    "    \"a fish\",\n",
    "    # \"Santa Claus\",\n",
    "    # \"a bunny and a pig\"\n",
    "]\n",
    "\n",
    "# Пробуем разные значения alpha (интенсивность добавления стиля)\n",
    "alphas = [-0.1, -0.2, -0.5, -0.75, -1]\n",
    "\n",
    "# Для каждого промпта показываем сравнение\n",
    "for prompt in prompts:\n",
    "    # Генерируем оригинальное изображение\n",
    "    original = generate_image(\n",
    "        model_name=model_name,\n",
    "        prompt=prompt,\n",
    "        seed=42,\n",
    "        not_steer=True\n",
    "    )\n",
    "\n",
    "    # Генерируем стилизованные изображения с разными alpha\n",
    "    styled_images = []\n",
    "    for alpha in alphas:\n",
    "        img = generate_image(\n",
    "            model_name=model_name, \n",
    "            prompt=prompt, \n",
    "            seed=0, \n",
    "            steering_vectors=cow_minus_pig, \n",
    "            alpha=alpha, \n",
    "            steer_back=True,\n",
    "            # use_similarity_weight=True\n",
    "        )\n",
    "        styled_images.append(img)\n",
    "\n",
    "    # Отображаем все изображения вместе\n",
    "    titles = [f\"Оригинал: {prompt}\"] + [f\"alpha={a}\" for a in alphas]\n",
    "    compare_images([original] + styled_images, titles=titles)"
   ]
  },
  {
   "cell_type": "code",
   "execution_count": null,
   "id": "62f47948-40d5-417b-8e83-666fcb437fa6",
   "metadata": {},
   "outputs": [],
   "source": []
  }
 ],
 "metadata": {
  "kernelspec": {
   "display_name": "Python 3 (ipykernel)",
   "language": "python",
   "name": "python3"
  },
  "language_info": {
   "codemirror_mode": {
    "name": "ipython",
    "version": 3
   },
   "file_extension": ".py",
   "mimetype": "text/x-python",
   "name": "python",
   "nbconvert_exporter": "python",
   "pygments_lexer": "ipython3",
   "version": "3.9.21"
  }
 },
 "nbformat": 4,
 "nbformat_minor": 5
}

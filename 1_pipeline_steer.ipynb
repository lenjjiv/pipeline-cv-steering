{
 "cells": [
  {
   "cell_type": "markdown",
   "id": "cf97b49b-abe9-42a0-90eb-b9119ef17096",
   "metadata": {},
   "source": [
    "## Imports"
   ]
  },
  {
   "cell_type": "code",
   "execution_count": 32,
   "id": "df70761a-30a9-40c5-b634-2869f840f3fe",
   "metadata": {},
   "outputs": [],
   "source": [
    "from compute_steering_vectors import compute_steering_vectors\n",
    "import pickle\n",
    "from pathlib import Path\n",
    "\n",
    "model_name = 'sd21'\n",
    "beta = 5\n",
    "random_seed = 49\n",
    "\n",
    "with open(\"steering_vectors.pkl\", \"rb\") as f:\n",
    "    steering_vectors = pickle.load(f)\n",
    "\n",
    "output_dir_not_steered = Path(\"images/original_images\")\n",
    "output_dir_not_steered.mkdir(parents=True, exist_ok=True)\n",
    "\n",
    "output_dir_steered = Path(\"images/steered_images\")\n",
    "output_dir_steered.mkdir(parents=True, exist_ok=True)\n",
    "\n",
    "output_dir_not_steered_val = Path(\"images/original_images_val\")\n",
    "output_dir_not_steered_val.mkdir(parents=True, exist_ok=True)\n",
    "\n",
    "output_dir_steered_val = Path(\"images/steered_images_val\")\n",
    "output_dir_steered_val.mkdir(parents=True, exist_ok=True)"
   ]
  },
  {
   "cell_type": "code",
   "execution_count": 33,
   "id": "e9d0158c-5f8c-4b7f-b300-4f4a4f351ca6",
   "metadata": {},
   "outputs": [],
   "source": [
    "from pathlib import Path\n",
    "from generate_image import generate_image\n",
    "\n",
    "def generate_and_save_images(prompts, seed, output_dir_not_steered, output_dir_steered):\n",
    "    Path(output_dir_not_steered).mkdir(parents=True, exist_ok=True)\n",
    "    Path(output_dir_steered).mkdir(parents=True, exist_ok=True)\n",
    "    \n",
    "    for prompt in prompts:\n",
    "        safe_prompt = prompt.replace(' ', '_')\n",
    "        original = generate_image(\n",
    "            model_name=model_name,\n",
    "            prompt=prompt,\n",
    "            seed=seed,\n",
    "            not_steer=True\n",
    "        )\n",
    "        styled = generate_image(\n",
    "            model_name=model_name,\n",
    "            prompt=prompt,\n",
    "            seed=seed,\n",
    "            steering_vectors=steering_vectors,\n",
    "            beta=beta,\n",
    "            steer_back=True,\n",
    "        )\n",
    "        original_filename = f\"./{output_dir_not_steered}/{safe_prompt}.png\"\n",
    "        styled_filename = f\"./{output_dir_steered}/{safe_prompt}.png\"\n",
    "        original.save(original_filename)\n",
    "        styled.save(styled_filename)"
   ]
  },
  {
   "cell_type": "markdown",
   "id": "4723b6da-8914-44ed-ab69-71152f5454fa",
   "metadata": {},
   "source": [
    "## Validation prompts"
   ]
  },
  {
   "cell_type": "code",
   "execution_count": 34,
   "id": "daa13bae-dfb7-432f-b211-d9c34eb53d06",
   "metadata": {},
   "outputs": [
    {
     "data": {
      "application/vnd.jupyter.widget-view+json": {
       "model_id": "0eb17e593d2e4889995958a1f95c217a",
       "version_major": 2,
       "version_minor": 0
      },
      "text/plain": [
       "Loading pipeline components...:   0%|          | 0/6 [00:00<?, ?it/s]"
      ]
     },
     "metadata": {},
     "output_type": "display_data"
    },
    {
     "name": "stdout",
     "output_type": "stream",
     "text": [
      "Генерируем изображение без управления: промпт='a cute kitten in a lush garden'\n"
     ]
    },
    {
     "data": {
      "application/vnd.jupyter.widget-view+json": {
       "model_id": "783cba316b8047ea8fa29eb3bce76d9f",
       "version_major": 2,
       "version_minor": 0
      },
      "text/plain": [
       "  0%|          | 0/50 [00:00<?, ?it/s]"
      ]
     },
     "metadata": {},
     "output_type": "display_data"
    },
    {
     "data": {
      "application/vnd.jupyter.widget-view+json": {
       "model_id": "2e4a3b12ba454ef6b96396ed153efd3b",
       "version_major": 2,
       "version_minor": 0
      },
      "text/plain": [
       "Loading pipeline components...:   0%|          | 0/6 [00:00<?, ?it/s]"
      ]
     },
     "metadata": {},
     "output_type": "display_data"
    },
    {
     "name": "stdout",
     "output_type": "stream",
     "text": [
      "Генерируем изображение с управлением: промпт='a cute kitten in a lush garden'\n",
      "Режим удаления концепции (beta=5)\n",
      "down 6\n",
      "up 15\n",
      "mid 16\n"
     ]
    },
    {
     "data": {
      "application/vnd.jupyter.widget-view+json": {
       "model_id": "ab26b08239de46c6ab82d3853e957507",
       "version_major": 2,
       "version_minor": 0
      },
      "text/plain": [
       "  0%|          | 0/50 [00:00<?, ?it/s]"
      ]
     },
     "metadata": {},
     "output_type": "display_data"
    },
    {
     "data": {
      "application/vnd.jupyter.widget-view+json": {
       "model_id": "b9d657ec9c9a435fbda7e3aa67282e17",
       "version_major": 2,
       "version_minor": 0
      },
      "text/plain": [
       "Loading pipeline components...:   0%|          | 0/6 [00:00<?, ?it/s]"
      ]
     },
     "metadata": {},
     "output_type": "display_data"
    },
    {
     "name": "stdout",
     "output_type": "stream",
     "text": [
      "Генерируем изображение без управления: промпт='a futuristic landscape with neon lights'\n"
     ]
    },
    {
     "data": {
      "application/vnd.jupyter.widget-view+json": {
       "model_id": "f881a04cea4a4b5baa237e05e50d9f7b",
       "version_major": 2,
       "version_minor": 0
      },
      "text/plain": [
       "  0%|          | 0/50 [00:00<?, ?it/s]"
      ]
     },
     "metadata": {},
     "output_type": "display_data"
    },
    {
     "data": {
      "application/vnd.jupyter.widget-view+json": {
       "model_id": "c8ede662eab54c0aaeb949cc048c08ce",
       "version_major": 2,
       "version_minor": 0
      },
      "text/plain": [
       "Loading pipeline components...:   0%|          | 0/6 [00:00<?, ?it/s]"
      ]
     },
     "metadata": {},
     "output_type": "display_data"
    },
    {
     "name": "stdout",
     "output_type": "stream",
     "text": [
      "Генерируем изображение с управлением: промпт='a futuristic landscape with neon lights'\n",
      "Режим удаления концепции (beta=5)\n",
      "down 6\n",
      "up 15\n",
      "mid 16\n"
     ]
    },
    {
     "data": {
      "application/vnd.jupyter.widget-view+json": {
       "model_id": "8e70c9d57e774462931a684ff5d1235e",
       "version_major": 2,
       "version_minor": 0
      },
      "text/plain": [
       "  0%|          | 0/50 [00:00<?, ?it/s]"
      ]
     },
     "metadata": {},
     "output_type": "display_data"
    },
    {
     "data": {
      "application/vnd.jupyter.widget-view+json": {
       "model_id": "a2da33287d34459a8121b541bd0f9bb5",
       "version_major": 2,
       "version_minor": 0
      },
      "text/plain": [
       "Loading pipeline components...:   0%|          | 0/6 [00:00<?, ?it/s]"
      ]
     },
     "metadata": {},
     "output_type": "display_data"
    },
    {
     "name": "stdout",
     "output_type": "stream",
     "text": [
      "Генерируем изображение без управления: промпт='a magical forest in an enchanted realm'\n"
     ]
    },
    {
     "data": {
      "application/vnd.jupyter.widget-view+json": {
       "model_id": "0bdf9a79b43b48168a5824230e44f744",
       "version_major": 2,
       "version_minor": 0
      },
      "text/plain": [
       "  0%|          | 0/50 [00:00<?, ?it/s]"
      ]
     },
     "metadata": {},
     "output_type": "display_data"
    },
    {
     "data": {
      "application/vnd.jupyter.widget-view+json": {
       "model_id": "4e463e57f9e94b32bd01ff698f6f0b5f",
       "version_major": 2,
       "version_minor": 0
      },
      "text/plain": [
       "Loading pipeline components...:   0%|          | 0/6 [00:00<?, ?it/s]"
      ]
     },
     "metadata": {},
     "output_type": "display_data"
    },
    {
     "name": "stdout",
     "output_type": "stream",
     "text": [
      "Генерируем изображение с управлением: промпт='a magical forest in an enchanted realm'\n",
      "Режим удаления концепции (beta=5)\n",
      "down 6\n",
      "up 15\n",
      "mid 16\n"
     ]
    },
    {
     "data": {
      "application/vnd.jupyter.widget-view+json": {
       "model_id": "4a01f1e8f3134bff8158e3f80183fd30",
       "version_major": 2,
       "version_minor": 0
      },
      "text/plain": [
       "  0%|          | 0/50 [00:00<?, ?it/s]"
      ]
     },
     "metadata": {},
     "output_type": "display_data"
    },
    {
     "data": {
      "application/vnd.jupyter.widget-view+json": {
       "model_id": "469b9327e4264e1e80841a1a8a202b94",
       "version_major": 2,
       "version_minor": 0
      },
      "text/plain": [
       "Loading pipeline components...:   0%|          | 0/6 [00:00<?, ?it/s]"
      ]
     },
     "metadata": {},
     "output_type": "display_data"
    },
    {
     "name": "stdout",
     "output_type": "stream",
     "text": [
      "Генерируем изображение без управления: промпт='a steampunk cityscape with intricate details'\n"
     ]
    },
    {
     "data": {
      "application/vnd.jupyter.widget-view+json": {
       "model_id": "ff3168998a9b42a7b1fad08f26bd00a7",
       "version_major": 2,
       "version_minor": 0
      },
      "text/plain": [
       "  0%|          | 0/50 [00:00<?, ?it/s]"
      ]
     },
     "metadata": {},
     "output_type": "display_data"
    },
    {
     "data": {
      "application/vnd.jupyter.widget-view+json": {
       "model_id": "18e4f114600c477289109fc8e3e4aa9a",
       "version_major": 2,
       "version_minor": 0
      },
      "text/plain": [
       "Loading pipeline components...:   0%|          | 0/6 [00:00<?, ?it/s]"
      ]
     },
     "metadata": {},
     "output_type": "display_data"
    },
    {
     "name": "stdout",
     "output_type": "stream",
     "text": [
      "Генерируем изображение с управлением: промпт='a steampunk cityscape with intricate details'\n",
      "Режим удаления концепции (beta=5)\n",
      "down 6\n",
      "up 15\n",
      "mid 16\n"
     ]
    },
    {
     "data": {
      "application/vnd.jupyter.widget-view+json": {
       "model_id": "3a3d176c17e94760a59f65512278e11b",
       "version_major": 2,
       "version_minor": 0
      },
      "text/plain": [
       "  0%|          | 0/50 [00:00<?, ?it/s]"
      ]
     },
     "metadata": {},
     "output_type": "display_data"
    },
    {
     "data": {
      "application/vnd.jupyter.widget-view+json": {
       "model_id": "2d0f817d9a35468983566b79d75f487b",
       "version_major": 2,
       "version_minor": 0
      },
      "text/plain": [
       "Loading pipeline components...:   0%|          | 0/6 [00:00<?, ?it/s]"
      ]
     },
     "metadata": {},
     "output_type": "display_data"
    },
    {
     "name": "stdout",
     "output_type": "stream",
     "text": [
      "Генерируем изображение без управления: промпт='an explorer in a mysterious cave'\n"
     ]
    },
    {
     "data": {
      "application/vnd.jupyter.widget-view+json": {
       "model_id": "176f666c18a6461fad50d5e6eceb31c4",
       "version_major": 2,
       "version_minor": 0
      },
      "text/plain": [
       "  0%|          | 0/50 [00:00<?, ?it/s]"
      ]
     },
     "metadata": {},
     "output_type": "display_data"
    },
    {
     "data": {
      "application/vnd.jupyter.widget-view+json": {
       "model_id": "abe07758ef38450aaa5932628f26c6dc",
       "version_major": 2,
       "version_minor": 0
      },
      "text/plain": [
       "Loading pipeline components...:   0%|          | 0/6 [00:00<?, ?it/s]"
      ]
     },
     "metadata": {},
     "output_type": "display_data"
    },
    {
     "name": "stdout",
     "output_type": "stream",
     "text": [
      "Генерируем изображение с управлением: промпт='an explorer in a mysterious cave'\n",
      "Режим удаления концепции (beta=5)\n",
      "down 6\n",
      "up 15\n",
      "mid 16\n"
     ]
    },
    {
     "data": {
      "application/vnd.jupyter.widget-view+json": {
       "model_id": "ccbc43a0f3c4454286b7d440b9ae0a09",
       "version_major": 2,
       "version_minor": 0
      },
      "text/plain": [
       "  0%|          | 0/50 [00:00<?, ?it/s]"
      ]
     },
     "metadata": {},
     "output_type": "display_data"
    }
   ],
   "source": [
    "# Промпты для валидационного набора (без слов \"rabbit\" и \"pig\")\n",
    "prompts_val = [\n",
    "    \"a cute kitten in a lush garden\",\n",
    "    \"a futuristic landscape with neon lights\",\n",
    "    \"a magical forest in an enchanted realm\",\n",
    "    \"a steampunk cityscape with intricate details\",\n",
    "    \"an explorer in a mysterious cave\"\n",
    "]\n",
    "\n",
    "generate_and_save_images(\n",
    "    prompts=prompts_val,\n",
    "    seed=random_seed,\n",
    "    output_dir_not_steered=output_dir_not_steered_val,\n",
    "    output_dir_steered=output_dir_steered_val\n",
    ")"
   ]
  },
  {
   "cell_type": "markdown",
   "id": "60f32bcd-39bf-4ae5-9b35-3f52a046eb31",
   "metadata": {},
   "source": [
    "### X-concept prompts"
   ]
  },
  {
   "cell_type": "code",
   "execution_count": 35,
   "id": "dbfa6ef6-7f16-412d-97db-cc8d81bdab41",
   "metadata": {},
   "outputs": [
    {
     "data": {
      "application/vnd.jupyter.widget-view+json": {
       "model_id": "271b24a5d32443fcbba19c9ab0bcc954",
       "version_major": 2,
       "version_minor": 0
      },
      "text/plain": [
       "Loading pipeline components...:   0%|          | 0/6 [00:00<?, ?it/s]"
      ]
     },
     "metadata": {},
     "output_type": "display_data"
    },
    {
     "name": "stdout",
     "output_type": "stream",
     "text": [
      "Генерируем изображение без управления: промпт='a cute rabbit in a lush garden'\n"
     ]
    },
    {
     "data": {
      "application/vnd.jupyter.widget-view+json": {
       "model_id": "f3b29276b0034f0db6c6316ec444a06e",
       "version_major": 2,
       "version_minor": 0
      },
      "text/plain": [
       "  0%|          | 0/50 [00:00<?, ?it/s]"
      ]
     },
     "metadata": {},
     "output_type": "display_data"
    },
    {
     "data": {
      "application/vnd.jupyter.widget-view+json": {
       "model_id": "62c093f9863548e5a167c54db54153e0",
       "version_major": 2,
       "version_minor": 0
      },
      "text/plain": [
       "Loading pipeline components...:   0%|          | 0/6 [00:00<?, ?it/s]"
      ]
     },
     "metadata": {},
     "output_type": "display_data"
    },
    {
     "name": "stdout",
     "output_type": "stream",
     "text": [
      "Генерируем изображение с управлением: промпт='a cute rabbit in a lush garden'\n",
      "Режим удаления концепции (beta=5)\n",
      "down 6\n",
      "up 15\n",
      "mid 16\n"
     ]
    },
    {
     "data": {
      "application/vnd.jupyter.widget-view+json": {
       "model_id": "77790311995e4564b1201667c83343fc",
       "version_major": 2,
       "version_minor": 0
      },
      "text/plain": [
       "  0%|          | 0/50 [00:00<?, ?it/s]"
      ]
     },
     "metadata": {},
     "output_type": "display_data"
    },
    {
     "data": {
      "application/vnd.jupyter.widget-view+json": {
       "model_id": "b73036beefd94beca7a0cf9ac8b8e475",
       "version_major": 2,
       "version_minor": 0
      },
      "text/plain": [
       "Loading pipeline components...:   0%|          | 0/6 [00:00<?, ?it/s]"
      ]
     },
     "metadata": {},
     "output_type": "display_data"
    },
    {
     "name": "stdout",
     "output_type": "stream",
     "text": [
      "Генерируем изображение без управления: промпт='a futuristic rabbit with neon lights'\n"
     ]
    },
    {
     "data": {
      "application/vnd.jupyter.widget-view+json": {
       "model_id": "f55e461e94654dd1a266bdd507244c22",
       "version_major": 2,
       "version_minor": 0
      },
      "text/plain": [
       "  0%|          | 0/50 [00:00<?, ?it/s]"
      ]
     },
     "metadata": {},
     "output_type": "display_data"
    },
    {
     "data": {
      "application/vnd.jupyter.widget-view+json": {
       "model_id": "c23e4ae4a45948648458b40d96337e99",
       "version_major": 2,
       "version_minor": 0
      },
      "text/plain": [
       "Loading pipeline components...:   0%|          | 0/6 [00:00<?, ?it/s]"
      ]
     },
     "metadata": {},
     "output_type": "display_data"
    },
    {
     "name": "stdout",
     "output_type": "stream",
     "text": [
      "Генерируем изображение с управлением: промпт='a futuristic rabbit with neon lights'\n",
      "Режим удаления концепции (beta=5)\n",
      "down 6\n",
      "up 15\n",
      "mid 16\n"
     ]
    },
    {
     "data": {
      "application/vnd.jupyter.widget-view+json": {
       "model_id": "be899c5946554e05bc21ad03ebd9d5d8",
       "version_major": 2,
       "version_minor": 0
      },
      "text/plain": [
       "  0%|          | 0/50 [00:00<?, ?it/s]"
      ]
     },
     "metadata": {},
     "output_type": "display_data"
    },
    {
     "data": {
      "application/vnd.jupyter.widget-view+json": {
       "model_id": "99463aa2cd474c99b26c9a8da99b0239",
       "version_major": 2,
       "version_minor": 0
      },
      "text/plain": [
       "Loading pipeline components...:   0%|          | 0/6 [00:00<?, ?it/s]"
      ]
     },
     "metadata": {},
     "output_type": "display_data"
    },
    {
     "name": "stdout",
     "output_type": "stream",
     "text": [
      "Генерируем изображение без управления: промпт='a magical rabbit in an enchanted forest'\n"
     ]
    },
    {
     "data": {
      "application/vnd.jupyter.widget-view+json": {
       "model_id": "fbc7584fffa64df89bdd18af5bff8a47",
       "version_major": 2,
       "version_minor": 0
      },
      "text/plain": [
       "  0%|          | 0/50 [00:00<?, ?it/s]"
      ]
     },
     "metadata": {},
     "output_type": "display_data"
    },
    {
     "data": {
      "application/vnd.jupyter.widget-view+json": {
       "model_id": "49d57593d1e4435890a889008c4a897f",
       "version_major": 2,
       "version_minor": 0
      },
      "text/plain": [
       "Loading pipeline components...:   0%|          | 0/6 [00:00<?, ?it/s]"
      ]
     },
     "metadata": {},
     "output_type": "display_data"
    },
    {
     "name": "stdout",
     "output_type": "stream",
     "text": [
      "Генерируем изображение с управлением: промпт='a magical rabbit in an enchanted forest'\n",
      "Режим удаления концепции (beta=5)\n",
      "down 6\n",
      "up 15\n",
      "mid 16\n"
     ]
    },
    {
     "data": {
      "application/vnd.jupyter.widget-view+json": {
       "model_id": "64597b78833244059e456838f53119fd",
       "version_major": 2,
       "version_minor": 0
      },
      "text/plain": [
       "  0%|          | 0/50 [00:00<?, ?it/s]"
      ]
     },
     "metadata": {},
     "output_type": "display_data"
    },
    {
     "data": {
      "application/vnd.jupyter.widget-view+json": {
       "model_id": "ea938498ba3e46708c2e48aa4082d3fd",
       "version_major": 2,
       "version_minor": 0
      },
      "text/plain": [
       "Loading pipeline components...:   0%|          | 0/6 [00:00<?, ?it/s]"
      ]
     },
     "metadata": {},
     "output_type": "display_data"
    },
    {
     "name": "stdout",
     "output_type": "stream",
     "text": [
      "Генерируем изображение без управления: промпт='a steampunk rabbit with goggles and gear'\n"
     ]
    },
    {
     "data": {
      "application/vnd.jupyter.widget-view+json": {
       "model_id": "701aebe4037f42e0ab834be006ba26b2",
       "version_major": 2,
       "version_minor": 0
      },
      "text/plain": [
       "  0%|          | 0/50 [00:00<?, ?it/s]"
      ]
     },
     "metadata": {},
     "output_type": "display_data"
    },
    {
     "data": {
      "application/vnd.jupyter.widget-view+json": {
       "model_id": "04449c2186d44bbea38382a0d123b6de",
       "version_major": 2,
       "version_minor": 0
      },
      "text/plain": [
       "Loading pipeline components...:   0%|          | 0/6 [00:00<?, ?it/s]"
      ]
     },
     "metadata": {},
     "output_type": "display_data"
    },
    {
     "name": "stdout",
     "output_type": "stream",
     "text": [
      "Генерируем изображение с управлением: промпт='a steampunk rabbit with goggles and gear'\n",
      "Режим удаления концепции (beta=5)\n",
      "down 6\n",
      "up 15\n",
      "mid 16\n"
     ]
    },
    {
     "data": {
      "application/vnd.jupyter.widget-view+json": {
       "model_id": "ac8a3f1d616e424daced64f1e09a1cb4",
       "version_major": 2,
       "version_minor": 0
      },
      "text/plain": [
       "  0%|          | 0/50 [00:00<?, ?it/s]"
      ]
     },
     "metadata": {},
     "output_type": "display_data"
    },
    {
     "data": {
      "application/vnd.jupyter.widget-view+json": {
       "model_id": "620ab41c8bf2418ab517680433f119db",
       "version_major": 2,
       "version_minor": 0
      },
      "text/plain": [
       "Loading pipeline components...:   0%|          | 0/6 [00:00<?, ?it/s]"
      ]
     },
     "metadata": {},
     "output_type": "display_data"
    },
    {
     "name": "stdout",
     "output_type": "stream",
     "text": [
      "Генерируем изображение без управления: промпт='a rabbit in a mysterious cave'\n"
     ]
    },
    {
     "data": {
      "application/vnd.jupyter.widget-view+json": {
       "model_id": "e8d7ae6d59c1459fbe1d385f58d4bc32",
       "version_major": 2,
       "version_minor": 0
      },
      "text/plain": [
       "  0%|          | 0/50 [00:00<?, ?it/s]"
      ]
     },
     "metadata": {},
     "output_type": "display_data"
    },
    {
     "data": {
      "application/vnd.jupyter.widget-view+json": {
       "model_id": "92dc3b81d5ce497999c031d44583b738",
       "version_major": 2,
       "version_minor": 0
      },
      "text/plain": [
       "Loading pipeline components...:   0%|          | 0/6 [00:00<?, ?it/s]"
      ]
     },
     "metadata": {},
     "output_type": "display_data"
    },
    {
     "name": "stdout",
     "output_type": "stream",
     "text": [
      "Генерируем изображение с управлением: промпт='a rabbit in a mysterious cave'\n",
      "Режим удаления концепции (beta=5)\n",
      "down 6\n",
      "up 15\n",
      "mid 16\n"
     ]
    },
    {
     "data": {
      "application/vnd.jupyter.widget-view+json": {
       "model_id": "ed7b4d7aff004617a2d48cdd3c15f68e",
       "version_major": 2,
       "version_minor": 0
      },
      "text/plain": [
       "  0%|          | 0/50 [00:00<?, ?it/s]"
      ]
     },
     "metadata": {},
     "output_type": "display_data"
    }
   ],
   "source": [
    "prompts_x_concept = [\n",
    "    \"a cute rabbit in a lush garden\",\n",
    "    \"a futuristic rabbit with neon lights\",\n",
    "    \"a magical rabbit in an enchanted forest\",\n",
    "    \"a steampunk rabbit with goggles and gear\",\n",
    "    \"a rabbit in a mysterious cave\"\n",
    "]\n",
    "\n",
    "generate_and_save_images(\n",
    "    prompts=prompts_x_concept,\n",
    "    seed=random_seed,\n",
    "    output_dir_not_steered=output_dir_not_steered,\n",
    "    output_dir_steered=output_dir_steered\n",
    ")"
   ]
  }
 ],
 "metadata": {
  "kernelspec": {
   "display_name": "Python 3 (ipykernel)",
   "language": "python",
   "name": "python3"
  },
  "language_info": {
   "codemirror_mode": {
    "name": "ipython",
    "version": 3
   },
   "file_extension": ".py",
   "mimetype": "text/x-python",
   "name": "python",
   "nbconvert_exporter": "python",
   "pygments_lexer": "ipython3",
   "version": "3.9.21"
  }
 },
 "nbformat": 4,
 "nbformat_minor": 5
}

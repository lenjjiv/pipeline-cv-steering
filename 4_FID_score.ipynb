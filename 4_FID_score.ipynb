{
 "cells": [
  {
   "cell_type": "code",
   "execution_count": 1,
   "id": "fd0306b5-e6de-44dd-bc11-3c7729cb1902",
   "metadata": {},
   "outputs": [
    {
     "name": "stdout",
     "output_type": "stream",
     "text": [
      "\n",
      "\u001b[1m[\u001b[0m\u001b[34;49mnotice\u001b[0m\u001b[1;39;49m]\u001b[0m\u001b[39;49m A new release of pip is available: \u001b[0m\u001b[31;49m24.0\u001b[0m\u001b[39;49m -> \u001b[0m\u001b[32;49m25.0.1\u001b[0m\n",
      "\u001b[1m[\u001b[0m\u001b[34;49mnotice\u001b[0m\u001b[1;39;49m]\u001b[0m\u001b[39;49m To update, run: \u001b[0m\u001b[32;49mpython3.9 -m pip install --upgrade pip\u001b[0m\n",
      "Note: you may need to restart the kernel to use updated packages.\n"
     ]
    }
   ],
   "source": [
    "%pip install -q torch-fidelity torch diffusers transformers pillow matplotlib ipywidgets accelerate hf_xet"
   ]
  },
  {
   "cell_type": "markdown",
   "id": "8f938dd1-2563-4a8f-b791-3a2ebb53bbe2",
   "metadata": {},
   "source": [
    "# Frechet Inception Distance (FID)\n",
    "\n",
    "$$\n",
    "\\text{FID} = \\|\\mu_r - \\mu_g\\|^2 + \\mathrm{Tr}\\Bigl(\\Sigma_r + \\Sigma_g - 2\\Bigl(\\Sigma_r \\Sigma_g\\Bigr)^{1/2}\\Bigr)\n",
    "$$\n",
    "\n",
    "Где:\n",
    "- $\\mu_r$ и $\\Sigma_r$ — среднее (матожидание) и ковариационная матрица признаков реальных изображений.\n",
    "- $\\mu_g$ и $\\Sigma_g$ — среднее и ковариационная матрица признаков сгенерированных изображений.\n",
    "- $\\|\\mu_r - \\mu_g\\|^2$ — квадрат евклидова расстояния между средними.\n",
    "- $\\mathrm{Tr}(\\cdot)$ обозначает след матрицы (сумму диагональных элементов).\n",
    "- $\\Bigl(\\Sigma_r \\Sigma_g\\Bigr)^{1/2}$ — матричный квадратный корень из произведения ковариационных матриц.\n",
    "\n",
    "Формула измеряет различие между распределениями признаков реальных и сгенерированных изображений. \n",
    "\n",
    "Чем меньше значение FID, тем ближе статистика признаков сгенерированных изображений к статистике реальных.\n"
   ]
  },
  {
   "cell_type": "code",
   "execution_count": 5,
   "id": "4975e1ab-caa5-4584-aa54-9bfb4acacf53",
   "metadata": {},
   "outputs": [
    {
     "name": "stderr",
     "output_type": "stream",
     "text": [
      "Creating feature extractor \"inception-v3-compat\" with features ['2048']\n",
      "Extracting statistics from input 1\n",
      "Looking for samples non-recursivelty in \"/workdir/images/original_images_val\" with extensions png,jpg,jpeg\n",
      "Found 5 samples\n",
      "Processing samples                                                    \n",
      "Extracting statistics from input 2\n",
      "Looking for samples non-recursivelty in \"/workdir/images/steered_images_val\" with extensions png,jpg,jpeg\n",
      "Found 5 samples\n",
      "Processing samples                                                    \n",
      "Frechet Inception Distance: 310.32079449130464\n"
     ]
    }
   ],
   "source": [
    "from torch_fidelity import calculate_metrics\n",
    "\n",
    "real_images_path = '/workdir/images/original_images_val'\n",
    "generated_images_path = '/workdir/images/steered_images_val'\n",
    "\n",
    "metrics = calculate_metrics(\n",
    "    input1=real_images_path, \n",
    "    input2=generated_images_path, \n",
    "    fid=True\n",
    ")"
   ]
  },
  {
   "cell_type": "markdown",
   "id": "a10e9bd3-2279-4b33-a5fb-e8d6241ca62b",
   "metadata": {},
   "source": [
    "Проблемы подхода:\n",
    "1. **Слабо интерпретируемое число**, трудно его объяснить себе-то, не то что детям.\n",
    "2. **Нельзя смешать однородно с CLIP-score'ом** (не можем складывать метры и секунды).\n",
    "3. **Большие значения даже на за-steer-енных картинках** - картинки разнообразные и не связанные друг с другом. А что будет на худшем бэйзлайне?🤔 Предположить трудно."
   ]
  },
  {
   "cell_type": "code",
   "execution_count": null,
   "id": "0fac1156-d0da-466b-9d0c-e66fa937d71c",
   "metadata": {},
   "outputs": [],
   "source": []
  }
 ],
 "metadata": {
  "kernelspec": {
   "display_name": "Python 3 (ipykernel)",
   "language": "python",
   "name": "python3"
  },
  "language_info": {
   "codemirror_mode": {
    "name": "ipython",
    "version": 3
   },
   "file_extension": ".py",
   "mimetype": "text/x-python",
   "name": "python",
   "nbconvert_exporter": "python",
   "pygments_lexer": "ipython3",
   "version": "3.9.21"
  }
 },
 "nbformat": 4,
 "nbformat_minor": 5
}

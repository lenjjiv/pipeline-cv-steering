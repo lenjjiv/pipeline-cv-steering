{
 "cells": [
  {
   "cell_type": "markdown",
   "id": "2cea74bf-1055-4b12-8b30-d21ee0914400",
   "metadata": {},
   "source": [
    "## Evaluate CLIP Score"
   ]
  },
  {
   "cell_type": "code",
   "execution_count": 1,
   "id": "2c7e0db9-d539-4b5e-9e3b-21c93784c570",
   "metadata": {},
   "outputs": [
    {
     "name": "stderr",
     "output_type": "stream",
     "text": [
      "Using a slow image processor as `use_fast` is unset and a slow processor was saved with this model. `use_fast=True` will be the default behavior in v4.52, even if the model was saved with a slow processor. This will result in minor differences in outputs. You'll still be able to use a slow processor with `use_fast=False`.\n"
     ]
    }
   ],
   "source": [
    "from transformers import CLIPProcessor, CLIPModel\n",
    "\n",
    "model = CLIPModel.from_pretrained(\"openai/clip-vit-large-patch14\")\n",
    "processor = CLIPProcessor.from_pretrained(\"openai/clip-vit-large-patch14\")"
   ]
  },
  {
   "cell_type": "code",
   "execution_count": 6,
   "id": "e986d434-571c-4045-bf2a-92d0ac25b8e4",
   "metadata": {},
   "outputs": [],
   "source": [
    "import os\n",
    "from PIL import Image\n",
    "import glob\n",
    "import torch\n",
    "\n",
    "def process_images_in_folder(*, folder_path: str, classes: list, processor, model, use_prompt_class: bool = False) -> None:\n",
    "    \"\"\"\n",
    "    Обрабатывает все изображения в указанной папке и вычисляет вероятности\n",
    "    схожести изображение-текст для каждого файла.\n",
    "    \n",
    "    Если use_prompt_class=True, промпт будет извлечен из имени файла и добавлен\n",
    "    в список классов для сравнения.\n",
    "    \n",
    "    Параметры:\n",
    "        folder_path (str): Путь к папке с изображениями.\n",
    "        classes (list): Список текстовых описаний для сравнения (например, [\"a rabbit\", \"a pig\"]).\n",
    "        processor: Объект для подготовки входных данных (например, processor модели).\n",
    "        model: Модель для оценки схожести изображение-текст.\n",
    "        use_prompt_class (bool): Если True, извлекает промпт из названия файла и добавляет его в список классов \n",
    "            (это способ проверки, что картинка действительно соответствует промпту, а не заменена как-либо).\n",
    "    \"\"\"\n",
    "    # Получаем список файлов с нужными расширениями\n",
    "    extensions = ('*.png', '*.jpg', '*.jpeg')\n",
    "    image_files = []\n",
    "    for ext in extensions:\n",
    "        image_files.extend(glob.glob(os.path.join(folder_path, ext)))\n",
    "    \n",
    "    # Обходим каждое изображение и выполняем обработку\n",
    "    with torch.no_grad():\n",
    "        for image_path in image_files:\n",
    "            image = Image.open(image_path)\n",
    "            \n",
    "            # Если задано использование промпта из имени файла, извлекаем его\n",
    "            if use_prompt_class:\n",
    "                filename = os.path.basename(image_path)\n",
    "                prompt_from_filename = os.path.splitext(filename)[0]\n",
    "                # Преобразуем нижние подчеркивания в пробелы\n",
    "                prompt_from_filename = prompt_from_filename.replace('_', ' ')\n",
    "                current_classes = classes.copy()\n",
    "                current_classes.append(prompt_from_filename)\n",
    "            else:\n",
    "                current_classes = classes\n",
    "            \n",
    "            inputs = processor(text=current_classes, images=image, return_tensors=\"pt\", padding=True)\n",
    "            outputs = model(**inputs)\n",
    "            logits_per_image = outputs.logits_per_image  # оценка схожести изображение-текст\n",
    "            probs = logits_per_image.softmax(dim=1)       # вычисляем вероятность для каждого класса\n",
    "\n",
    "            print(f\"Файл: {image_path}\\nВероятности: {probs}\\n\")"
   ]
  },
  {
   "cell_type": "code",
   "execution_count": 12,
   "id": "36272c64-3184-4439-8b28-3ed6ce2b4fb2",
   "metadata": {},
   "outputs": [
    {
     "name": "stdout",
     "output_type": "stream",
     "text": [
      "Файл: images/steered_images/a_cute_rabbit_in_a_lush_garden.png\n",
      "Вероятности: tensor([[5.7632e-04, 9.9942e-01]])\n",
      "\n",
      "Файл: images/steered_images/a_futuristic_rabbit_with_neon_lights.png\n",
      "Вероятности: tensor([[0.0331, 0.9669]])\n",
      "\n",
      "Файл: images/steered_images/a_magical_rabbit_in_an_enchanted_forest.png\n",
      "Вероятности: tensor([[4.9152e-04, 9.9951e-01]])\n",
      "\n",
      "Файл: images/steered_images/a_steampunk_rabbit_with_goggles_and_gear.png\n",
      "Вероятности: tensor([[0.0011, 0.9989]])\n",
      "\n",
      "Файл: images/steered_images/a_rabbit_in_a_mysterious_cave.png\n",
      "Вероятности: tensor([[0.0013, 0.9987]])\n",
      "\n"
     ]
    }
   ],
   "source": [
    "# x-prompts set\n",
    "folder = \"images/steered_images\"\n",
    "classes = [\"a rabbit\", \"a pig\"]\n",
    "\n",
    "process_images_in_folder(\n",
    "    folder_path=folder,\n",
    "    classes=classes,\n",
    "    processor=processor,\n",
    "    model=model,\n",
    "    use_prompt_class=False\n",
    ")"
   ]
  },
  {
   "cell_type": "code",
   "execution_count": 11,
   "id": "3f2386ca-1c68-4f56-afb0-39c35cc02680",
   "metadata": {},
   "outputs": [
    {
     "name": "stdout",
     "output_type": "stream",
     "text": [
      "Файл: images/steered_images_val/a_cute_kitten_in_a_lush_garden.png\n",
      "Вероятности: tensor([[1.3294e-04, 1.9527e-04, 9.9967e-01]])\n",
      "\n",
      "Файл: images/steered_images_val/a_futuristic_landscape_with_neon_lights.png\n",
      "Вероятности: tensor([[1.3907e-06, 1.4527e-07, 1.0000e+00]])\n",
      "\n",
      "Файл: images/steered_images_val/a_magical_forest_in_an_enchanted_realm.png\n",
      "Вероятности: tensor([[1.5836e-04, 1.5366e-05, 9.9983e-01]])\n",
      "\n",
      "Файл: images/steered_images_val/a_steampunk_cityscape_with_intricate_details.png\n",
      "Вероятности: tensor([[4.3065e-07, 8.0898e-08, 1.0000e+00]])\n",
      "\n",
      "Файл: images/steered_images_val/an_explorer_in_a_mysterious_cave.png\n",
      "Вероятности: tensor([[8.3114e-05, 5.0271e-05, 9.9987e-01]])\n",
      "\n"
     ]
    }
   ],
   "source": [
    "# validation set\n",
    "folder = \"images/steered_images_val\"\n",
    "classes = [\"a rabbit\", \"a pig\"]\n",
    "\n",
    "process_images_in_folder(\n",
    "    folder_path=folder,\n",
    "    classes=classes,\n",
    "    processor=processor,\n",
    "    model=model,\n",
    "    use_prompt_class=True\n",
    ")"
   ]
  }
 ],
 "metadata": {
  "kernelspec": {
   "display_name": "Python 3 (ipykernel)",
   "language": "python",
   "name": "python3"
  },
  "language_info": {
   "codemirror_mode": {
    "name": "ipython",
    "version": 3
   },
   "file_extension": ".py",
   "mimetype": "text/x-python",
   "name": "python",
   "nbconvert_exporter": "python",
   "pygments_lexer": "ipython3",
   "version": "3.9.21"
  }
 },
 "nbformat": 4,
 "nbformat_minor": 5
}

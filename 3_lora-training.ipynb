{
 "cells": [
  {
   "cell_type": "code",
   "execution_count": null,
   "id": "0176001d-9c2b-44e5-90c4-02db58309669",
   "metadata": {},
   "outputs": [],
   "source": [
    "# TO DO: LoRA Training"
   ]
  }
 ],
 "metadata": {
  "kernelspec": {
   "display_name": "Python 3 (ipykernel)",
   "language": "python",
   "name": "python3"
  },
  "language_info": {
   "codemirror_mode": {
    "name": "ipython",
    "version": 3
   },
   "file_extension": ".py",
   "mimetype": "text/x-python",
   "name": "python",
   "nbconvert_exporter": "python",
   "pygments_lexer": "ipython3",
   "version": "3.9.21"
  }
 },
 "nbformat": 4,
 "nbformat_minor": 5
}
